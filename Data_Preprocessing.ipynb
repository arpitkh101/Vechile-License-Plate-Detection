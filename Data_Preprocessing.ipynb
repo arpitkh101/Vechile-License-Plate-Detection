{
 "cells": [
  {
   "cell_type": "code",
   "execution_count": 43,
   "metadata": {},
   "outputs": [],
   "source": [
    "import argparse\n",
    "import os\n",
    "import numpy as np\n",
    "import pandas as pd\n",
    "from keras.layers import Conv2D, Input, BatchNormalization, LeakyReLU, ZeroPadding2D, UpSampling2D\n",
    "from keras.layers.merge import add, concatenate\n",
    "from keras.models import Model\n",
    "from keras.preprocessing import image as im\n",
    "import struct\n",
    "from matplotlib import pyplot\n",
    "from matplotlib.patches import Rectangle\n",
    "import json\n",
    "from PIL import Image\n",
    "\n",
    "import urllib"
   ]
  },
  {
   "cell_type": "code",
   "execution_count": 30,
   "metadata": {},
   "outputs": [
    {
     "data": {
      "text/html": [
       "<div>\n",
       "<style scoped>\n",
       "    .dataframe tbody tr th:only-of-type {\n",
       "        vertical-align: middle;\n",
       "    }\n",
       "\n",
       "    .dataframe tbody tr th {\n",
       "        vertical-align: top;\n",
       "    }\n",
       "\n",
       "    .dataframe thead th {\n",
       "        text-align: right;\n",
       "    }\n",
       "</style>\n",
       "<table border=\"1\" class=\"dataframe\">\n",
       "  <thead>\n",
       "    <tr style=\"text-align: right;\">\n",
       "      <th></th>\n",
       "      <th>annotation</th>\n",
       "      <th>content</th>\n",
       "      <th>extras</th>\n",
       "    </tr>\n",
       "  </thead>\n",
       "  <tbody>\n",
       "    <tr>\n",
       "      <th>0</th>\n",
       "      <td>[{'label': ['number_plate'], 'notes': '', 'poi...</td>\n",
       "      <td>http://com.dataturks.a96-i23.open.s3.amazonaws...</td>\n",
       "      <td>NaN</td>\n",
       "    </tr>\n",
       "    <tr>\n",
       "      <th>1</th>\n",
       "      <td>[{'label': ['number_plate'], 'notes': '', 'poi...</td>\n",
       "      <td>http://com.dataturks.a96-i23.open.s3.amazonaws...</td>\n",
       "      <td>NaN</td>\n",
       "    </tr>\n",
       "    <tr>\n",
       "      <th>2</th>\n",
       "      <td>[{'label': ['number_plate'], 'notes': '', 'poi...</td>\n",
       "      <td>http://com.dataturks.a96-i23.open.s3.amazonaws...</td>\n",
       "      <td>NaN</td>\n",
       "    </tr>\n",
       "    <tr>\n",
       "      <th>3</th>\n",
       "      <td>[{'label': ['number_plate'], 'notes': '', 'poi...</td>\n",
       "      <td>http://com.dataturks.a96-i23.open.s3.amazonaws...</td>\n",
       "      <td>NaN</td>\n",
       "    </tr>\n",
       "    <tr>\n",
       "      <th>4</th>\n",
       "      <td>[{'label': ['number_plate'], 'notes': '', 'poi...</td>\n",
       "      <td>http://com.dataturks.a96-i23.open.s3.amazonaws...</td>\n",
       "      <td>NaN</td>\n",
       "    </tr>\n",
       "  </tbody>\n",
       "</table>\n",
       "</div>"
      ],
      "text/plain": [
       "                                          annotation  \\\n",
       "0  [{'label': ['number_plate'], 'notes': '', 'poi...   \n",
       "1  [{'label': ['number_plate'], 'notes': '', 'poi...   \n",
       "2  [{'label': ['number_plate'], 'notes': '', 'poi...   \n",
       "3  [{'label': ['number_plate'], 'notes': '', 'poi...   \n",
       "4  [{'label': ['number_plate'], 'notes': '', 'poi...   \n",
       "\n",
       "                                             content  extras  \n",
       "0  http://com.dataturks.a96-i23.open.s3.amazonaws...     NaN  \n",
       "1  http://com.dataturks.a96-i23.open.s3.amazonaws...     NaN  \n",
       "2  http://com.dataturks.a96-i23.open.s3.amazonaws...     NaN  \n",
       "3  http://com.dataturks.a96-i23.open.s3.amazonaws...     NaN  \n",
       "4  http://com.dataturks.a96-i23.open.s3.amazonaws...     NaN  "
      ]
     },
     "execution_count": 30,
     "metadata": {},
     "output_type": "execute_result"
    }
   ],
   "source": [
    "    df = pd.read_json(r\"C:\\Users\\ArpitKh4101\\Downloads\\vehicle-number-plate-detection\\Indian_Number_plates.json\", lines=True)\n",
    "    df.head()"
   ]
  },
  {
   "cell_type": "code",
   "execution_count": 47,
   "metadata": {},
   "outputs": [
    {
     "name": "stdout",
     "output_type": "stream",
     "text": [
      "Downloaded 237 car images.\n"
     ]
    }
   ],
   "source": [
    "dataset = dict()\n",
    "dataset[\"image_name\"] = list()\n",
    "dataset[\"image_width\"] = list()\n",
    "dataset[\"image_height\"] = list()\n",
    "dataset[\"top_x\"] = list()\n",
    "dataset[\"top_y\"] = list()\n",
    "dataset[\"bottom_x\"] = list()\n",
    "dataset[\"bottom_y\"] = list()\n",
    "\n",
    "counter = 0\n",
    "for index, row in df.iterrows():\n",
    "    img = urllib.request.urlopen(row[\"content\"])\n",
    "    img = Image.open(img)\n",
    "    img = img.convert('RGB')\n",
    "    img.save(r\"C:\\Users\\ArpitKh4101\\Downloads\\INDIAN/licensed_car{}.jpeg\".format(counter), \"JPEG\")\n",
    "    \n",
    "    dataset[\"image_name\"].append(\"licensed_car{}\".format(counter))\n",
    "    \n",
    "    data = row[\"annotation\"]\n",
    "    \n",
    "    dataset[\"image_width\"].append(data[0][\"imageWidth\"])\n",
    "    dataset[\"image_height\"].append(data[0][\"imageHeight\"])\n",
    "    dataset[\"top_x\"].append(data[0][\"points\"][0][\"x\"])\n",
    "    dataset[\"top_y\"].append(data[0][\"points\"][0][\"y\"])\n",
    "    dataset[\"bottom_x\"].append(data[0][\"points\"][1][\"x\"])\n",
    "    dataset[\"bottom_y\"].append(data[0][\"points\"][1][\"y\"])\n",
    "    \n",
    "    counter += 1\n",
    "print(\"Downloaded {} car images.\".format(counter))"
   ]
  },
  {
   "cell_type": "code",
   "execution_count": 199,
   "metadata": {},
   "outputs": [
    {
     "data": {
      "text/html": [
       "<div>\n",
       "<style scoped>\n",
       "    .dataframe tbody tr th:only-of-type {\n",
       "        vertical-align: middle;\n",
       "    }\n",
       "\n",
       "    .dataframe tbody tr th {\n",
       "        vertical-align: top;\n",
       "    }\n",
       "\n",
       "    .dataframe thead th {\n",
       "        text-align: right;\n",
       "    }\n",
       "</style>\n",
       "<table border=\"1\" class=\"dataframe\">\n",
       "  <thead>\n",
       "    <tr style=\"text-align: right;\">\n",
       "      <th></th>\n",
       "      <th>image_name</th>\n",
       "      <th>image_width</th>\n",
       "      <th>image_height</th>\n",
       "      <th>top_x</th>\n",
       "      <th>top_y</th>\n",
       "      <th>bottom_x</th>\n",
       "      <th>bottom_y</th>\n",
       "    </tr>\n",
       "  </thead>\n",
       "  <tbody>\n",
       "    <tr>\n",
       "      <th>0</th>\n",
       "      <td>licensed_car0</td>\n",
       "      <td>806</td>\n",
       "      <td>466</td>\n",
       "      <td>0.722084</td>\n",
       "      <td>0.587983</td>\n",
       "      <td>0.868486</td>\n",
       "      <td>0.688841</td>\n",
       "    </tr>\n",
       "    <tr>\n",
       "      <th>1</th>\n",
       "      <td>licensed_car1</td>\n",
       "      <td>494</td>\n",
       "      <td>449</td>\n",
       "      <td>0.161943</td>\n",
       "      <td>0.850780</td>\n",
       "      <td>0.582996</td>\n",
       "      <td>1.000000</td>\n",
       "    </tr>\n",
       "    <tr>\n",
       "      <th>2</th>\n",
       "      <td>licensed_car2</td>\n",
       "      <td>500</td>\n",
       "      <td>314</td>\n",
       "      <td>0.082000</td>\n",
       "      <td>0.697452</td>\n",
       "      <td>0.230000</td>\n",
       "      <td>0.828025</td>\n",
       "    </tr>\n",
       "    <tr>\n",
       "      <th>3</th>\n",
       "      <td>licensed_car3</td>\n",
       "      <td>500</td>\n",
       "      <td>469</td>\n",
       "      <td>0.434000</td>\n",
       "      <td>0.667377</td>\n",
       "      <td>0.718000</td>\n",
       "      <td>0.765458</td>\n",
       "    </tr>\n",
       "    <tr>\n",
       "      <th>4</th>\n",
       "      <td>licensed_car4</td>\n",
       "      <td>1001</td>\n",
       "      <td>563</td>\n",
       "      <td>0.208791</td>\n",
       "      <td>0.390764</td>\n",
       "      <td>0.865135</td>\n",
       "      <td>0.984014</td>\n",
       "    </tr>\n",
       "  </tbody>\n",
       "</table>\n",
       "</div>"
      ],
      "text/plain": [
       "      image_name  image_width  image_height     top_x     top_y  bottom_x  \\\n",
       "0  licensed_car0          806           466  0.722084  0.587983  0.868486   \n",
       "1  licensed_car1          494           449  0.161943  0.850780  0.582996   \n",
       "2  licensed_car2          500           314  0.082000  0.697452  0.230000   \n",
       "3  licensed_car3          500           469  0.434000  0.667377  0.718000   \n",
       "4  licensed_car4         1001           563  0.208791  0.390764  0.865135   \n",
       "\n",
       "   bottom_y  \n",
       "0  0.688841  \n",
       "1  1.000000  \n",
       "2  0.828025  \n",
       "3  0.765458  \n",
       "4  0.984014  "
      ]
     },
     "execution_count": 199,
     "metadata": {},
     "output_type": "execute_result"
    }
   ],
   "source": [
    "df = pd.DataFrame(dataset)\n",
    "df.head()"
   ]
  },
  {
   "cell_type": "code",
   "execution_count": 200,
   "metadata": {},
   "outputs": [
    {
     "data": {
      "text/html": [
       "<div>\n",
       "<style scoped>\n",
       "    .dataframe tbody tr th:only-of-type {\n",
       "        vertical-align: middle;\n",
       "    }\n",
       "\n",
       "    .dataframe tbody tr th {\n",
       "        vertical-align: top;\n",
       "    }\n",
       "\n",
       "    .dataframe thead th {\n",
       "        text-align: right;\n",
       "    }\n",
       "</style>\n",
       "<table border=\"1\" class=\"dataframe\">\n",
       "  <thead>\n",
       "    <tr style=\"text-align: right;\">\n",
       "      <th></th>\n",
       "      <th>centre_x</th>\n",
       "      <th>centre_y</th>\n",
       "      <th>width</th>\n",
       "      <th>height</th>\n",
       "    </tr>\n",
       "  </thead>\n",
       "  <tbody>\n",
       "    <tr>\n",
       "      <th>0</th>\n",
       "      <td>0.795285</td>\n",
       "      <td>0.638412</td>\n",
       "      <td>0.146402</td>\n",
       "      <td>0.100858</td>\n",
       "    </tr>\n",
       "    <tr>\n",
       "      <th>1</th>\n",
       "      <td>0.372470</td>\n",
       "      <td>0.925390</td>\n",
       "      <td>0.421053</td>\n",
       "      <td>0.149220</td>\n",
       "    </tr>\n",
       "    <tr>\n",
       "      <th>2</th>\n",
       "      <td>0.156000</td>\n",
       "      <td>0.762739</td>\n",
       "      <td>0.148000</td>\n",
       "      <td>0.130573</td>\n",
       "    </tr>\n",
       "    <tr>\n",
       "      <th>3</th>\n",
       "      <td>0.576000</td>\n",
       "      <td>0.716418</td>\n",
       "      <td>0.284000</td>\n",
       "      <td>0.098081</td>\n",
       "    </tr>\n",
       "    <tr>\n",
       "      <th>4</th>\n",
       "      <td>0.536963</td>\n",
       "      <td>0.687389</td>\n",
       "      <td>0.656344</td>\n",
       "      <td>0.593250</td>\n",
       "    </tr>\n",
       "  </tbody>\n",
       "</table>\n",
       "</div>"
      ],
      "text/plain": [
       "   centre_x  centre_y     width    height\n",
       "0  0.795285  0.638412  0.146402  0.100858\n",
       "1  0.372470  0.925390  0.421053  0.149220\n",
       "2  0.156000  0.762739  0.148000  0.130573\n",
       "3  0.576000  0.716418  0.284000  0.098081\n",
       "4  0.536963  0.687389  0.656344  0.593250"
      ]
     },
     "execution_count": 200,
     "metadata": {},
     "output_type": "execute_result"
    }
   ],
   "source": [
    "df[\"image_name\"] = df[\"image_name\"] + \".jpeg\"\n",
    "df[\"centre_x\"]=(df[\"top_x\"]+df[\"bottom_x\"])/2\n",
    "df[\"centre_y\"]=(df[\"top_y\"]+df[\"bottom_y\"])/2\n",
    "df[\"width\"]= -df[\"top_x\"]+ df[\"bottom_x\"]\n",
    "df[\"height\"]=(-df[\"top_y\"]+df[\"bottom_y\"])\n",
    "df.drop([\"top_x\", \"top_y\",\"bottom_x\",\"bottom_y\",\"image_width\",\"image_height\"], axis=1, inplace=True)\n",
    "df=df[['centre_x', 'centre_y', 'width', 'height']]\n",
    "df.head()"
   ]
  },
  {
   "cell_type": "code",
   "execution_count": 99,
   "metadata": {},
   "outputs": [],
   "source": [
    "df.to_csv('NumberPlates.csv')"
   ]
  },
  {
   "cell_type": "code",
   "execution_count": 94,
   "metadata": {},
   "outputs": [
    {
     "data": {
      "text/html": [
       "<div>\n",
       "<style scoped>\n",
       "    .dataframe tbody tr th:only-of-type {\n",
       "        vertical-align: middle;\n",
       "    }\n",
       "\n",
       "    .dataframe tbody tr th {\n",
       "        vertical-align: top;\n",
       "    }\n",
       "\n",
       "    .dataframe thead th {\n",
       "        text-align: right;\n",
       "    }\n",
       "</style>\n",
       "<table border=\"1\" class=\"dataframe\">\n",
       "  <thead>\n",
       "    <tr style=\"text-align: right;\">\n",
       "      <th></th>\n",
       "      <th>index</th>\n",
       "      <th>centre_x</th>\n",
       "      <th>centre_y</th>\n",
       "      <th>width</th>\n",
       "      <th>height</th>\n",
       "    </tr>\n",
       "  </thead>\n",
       "  <tbody>\n",
       "    <tr>\n",
       "      <th>0</th>\n",
       "      <td>0</td>\n",
       "      <td>0.795285</td>\n",
       "      <td>0.638412</td>\n",
       "      <td>0.146402</td>\n",
       "      <td>0.100858</td>\n",
       "    </tr>\n",
       "    <tr>\n",
       "      <th>1</th>\n",
       "      <td>1</td>\n",
       "      <td>0.372470</td>\n",
       "      <td>0.925390</td>\n",
       "      <td>0.421053</td>\n",
       "      <td>0.149220</td>\n",
       "    </tr>\n",
       "    <tr>\n",
       "      <th>2</th>\n",
       "      <td>2</td>\n",
       "      <td>0.156000</td>\n",
       "      <td>0.762739</td>\n",
       "      <td>0.148000</td>\n",
       "      <td>0.130573</td>\n",
       "    </tr>\n",
       "    <tr>\n",
       "      <th>3</th>\n",
       "      <td>3</td>\n",
       "      <td>0.576000</td>\n",
       "      <td>0.716418</td>\n",
       "      <td>0.284000</td>\n",
       "      <td>0.098081</td>\n",
       "    </tr>\n",
       "    <tr>\n",
       "      <th>4</th>\n",
       "      <td>4</td>\n",
       "      <td>0.536963</td>\n",
       "      <td>0.687389</td>\n",
       "      <td>0.656344</td>\n",
       "      <td>0.593250</td>\n",
       "    </tr>\n",
       "  </tbody>\n",
       "</table>\n",
       "</div>"
      ],
      "text/plain": [
       "   index  centre_x  centre_y     width    height\n",
       "0      0  0.795285  0.638412  0.146402  0.100858\n",
       "1      1  0.372470  0.925390  0.421053  0.149220\n",
       "2      2  0.156000  0.762739  0.148000  0.130573\n",
       "3      3  0.576000  0.716418  0.284000  0.098081\n",
       "4      4  0.536963  0.687389  0.656344  0.593250"
      ]
     },
     "execution_count": 94,
     "metadata": {},
     "output_type": "execute_result"
    }
   ],
   "source": [
    "dg=df\n",
    "dg.drop([\"image_name\"],axis=1, inplace=True)\n",
    "dg.head()"
   ]
  },
  {
   "cell_type": "code",
   "execution_count": 96,
   "metadata": {},
   "outputs": [],
   "source": [
    "np.savetxt(r'Annotations.txt', dg.values)"
   ]
  },
  {
   "cell_type": "code",
   "execution_count": 114,
   "metadata": {},
   "outputs": [],
   "source": [
    "for i in range(0,237):\n",
    "    np.savetxt(r\"C:\\Users\\ArpitKh4101\\Downloads\\Annotations\\licensed_car{}.txt\".format(i), dg.values[i],delimiter='\\t')\n",
    "    "
   ]
  },
  {
   "cell_type": "code",
   "execution_count": 125,
   "metadata": {},
   "outputs": [],
   "source": [
    "dat=[]\n",
    "for i in range(0,237):\n",
    "    dat.append(r\"C:\\Users\\ArpitKh4101\\Downloads\\INDIAN\\licensed_car{}.jpeg\".format(i))"
   ]
  },
  {
   "cell_type": "code",
   "execution_count": 126,
   "metadata": {},
   "outputs": [],
   "source": [
    "df[\"Image_add\"]=dat"
   ]
  },
  {
   "cell_type": "code",
   "execution_count": 127,
   "metadata": {},
   "outputs": [],
   "source": [
    "df=df[['Image_add','image_name','centre_x', 'centre_y', 'width', 'height']]"
   ]
  },
  {
   "cell_type": "code",
   "execution_count": 128,
   "metadata": {},
   "outputs": [],
   "source": [
    "np.savetxt(r\"C:\\Users\\ArpitKh4101\\Downloads\\Anno1.txt\", df.values,delimiter=\" \", newline = \"\\n\", fmt=\"%s\")"
   ]
  },
  {
   "cell_type": "code",
   "execution_count": 122,
   "metadata": {},
   "outputs": [
    {
     "data": {
      "text/plain": [
       "array([['licensed_car0', 0.7952853598014886, 0.6384120171673815,\n",
       "        0.14640198511166302, 0.10085836909871293],\n",
       "       ['licensed_car1', 0.37246963562753, 0.9253897550111355,\n",
       "        0.421052631578948, 0.14922048997772897],\n",
       "       ['licensed_car2', 0.156, 0.7627388535031845, 0.14800000000000002,\n",
       "        0.13057324840764306],\n",
       "       ...,\n",
       "       ['licensed_car234', 0.481, 0.6882530120481926, 0.294,\n",
       "        0.159638554216867],\n",
       "       ['licensed_car235', 0.36860068259385653, 0.6601208459214496,\n",
       "        0.146757679180887, 0.11782477341389697],\n",
       "       ['licensed_car236', 0.48481012658227807, 0.49319727891156456,\n",
       "        0.888607594936708, 0.7278911564625851]], dtype=object)"
      ]
     },
     "execution_count": 122,
     "metadata": {},
     "output_type": "execute_result"
    }
   ],
   "source": [
    "np.savetxt(\"data.txt\", temp, delimiter=\" \", newline = \"\\n\", fmt=\"%s\")"
   ]
  },
  {
   "cell_type": "code",
   "execution_count": 203,
   "metadata": {},
   "outputs": [],
   "source": [
    "fd=pd.DataFrame(dataset)\n",
    "fd.drop(['image_height','image_width'],axis=1, inplace=True)"
   ]
  },
  {
   "cell_type": "code",
   "execution_count": 148,
   "metadata": {},
   "outputs": [],
   "source": [
    "fd=fd[['image_name','top_x', 'bottom_x','top_y', 'bottom_y']]\n",
    "np.savetxt(r\"C:\\Users\\ArpitKh4101\\Downloads\\Anno4.txt\", fd.values,delimiter=\" \", newline = \"\\n\", fmt=\"%s\")"
   ]
  },
  {
   "cell_type": "code",
   "execution_count": 204,
   "metadata": {},
   "outputs": [
    {
     "data": {
      "text/html": [
       "<div>\n",
       "<style scoped>\n",
       "    .dataframe tbody tr th:only-of-type {\n",
       "        vertical-align: middle;\n",
       "    }\n",
       "\n",
       "    .dataframe tbody tr th {\n",
       "        vertical-align: top;\n",
       "    }\n",
       "\n",
       "    .dataframe thead th {\n",
       "        text-align: right;\n",
       "    }\n",
       "</style>\n",
       "<table border=\"1\" class=\"dataframe\">\n",
       "  <thead>\n",
       "    <tr style=\"text-align: right;\">\n",
       "      <th></th>\n",
       "      <th>image_name</th>\n",
       "      <th>top_x</th>\n",
       "      <th>bottom_x</th>\n",
       "      <th>top_y</th>\n",
       "      <th>bottom_y</th>\n",
       "    </tr>\n",
       "  </thead>\n",
       "  <tbody>\n",
       "    <tr>\n",
       "      <th>0</th>\n",
       "      <td>licensed_car0</td>\n",
       "      <td>0.722084</td>\n",
       "      <td>0.868486</td>\n",
       "      <td>0.587983</td>\n",
       "      <td>0.688841</td>\n",
       "    </tr>\n",
       "    <tr>\n",
       "      <th>1</th>\n",
       "      <td>licensed_car1</td>\n",
       "      <td>0.161943</td>\n",
       "      <td>0.582996</td>\n",
       "      <td>0.850780</td>\n",
       "      <td>1.000000</td>\n",
       "    </tr>\n",
       "    <tr>\n",
       "      <th>2</th>\n",
       "      <td>licensed_car2</td>\n",
       "      <td>0.082000</td>\n",
       "      <td>0.230000</td>\n",
       "      <td>0.697452</td>\n",
       "      <td>0.828025</td>\n",
       "    </tr>\n",
       "    <tr>\n",
       "      <th>3</th>\n",
       "      <td>licensed_car3</td>\n",
       "      <td>0.434000</td>\n",
       "      <td>0.718000</td>\n",
       "      <td>0.667377</td>\n",
       "      <td>0.765458</td>\n",
       "    </tr>\n",
       "    <tr>\n",
       "      <th>4</th>\n",
       "      <td>licensed_car4</td>\n",
       "      <td>0.208791</td>\n",
       "      <td>0.865135</td>\n",
       "      <td>0.390764</td>\n",
       "      <td>0.984014</td>\n",
       "    </tr>\n",
       "  </tbody>\n",
       "</table>\n",
       "</div>"
      ],
      "text/plain": [
       "      image_name     top_x  bottom_x     top_y  bottom_y\n",
       "0  licensed_car0  0.722084  0.868486  0.587983  0.688841\n",
       "1  licensed_car1  0.161943  0.582996  0.850780  1.000000\n",
       "2  licensed_car2  0.082000  0.230000  0.697452  0.828025\n",
       "3  licensed_car3  0.434000  0.718000  0.667377  0.765458\n",
       "4  licensed_car4  0.208791  0.865135  0.390764  0.984014"
      ]
     },
     "execution_count": 204,
     "metadata": {},
     "output_type": "execute_result"
    }
   ],
   "source": [
    "\n",
    "fd=fd[['image_name','top_x', 'bottom_x','top_y', 'bottom_y']]\n",
    "fd.head()"
   ]
  },
  {
   "cell_type": "code",
   "execution_count": 160,
   "metadata": {},
   "outputs": [],
   "source": [
    "np.savetxt(r\"C:\\Users\\ArpitKh4101\\Downloads\\Anno4.txt\", fd.values,delimiter=\" \", newline = \"\\n\", fmt=\"%s\")"
   ]
  },
  {
   "cell_type": "code",
   "execution_count": 205,
   "metadata": {},
   "outputs": [
    {
     "data": {
      "text/plain": [
       "237"
      ]
     },
     "execution_count": 205,
     "metadata": {},
     "output_type": "execute_result"
    }
   ],
   "source": [
    "i=0\n",
    "for x,z in fd.iterrows():\n",
    "    file1=open(r\"C:\\Users\\ArpitKh4101\\Downloads\\Annotations1\\licensed_car{}.txt\".format(i),'w')\n",
    "    file1.write('0' + \" \" + str(z[0])+ \" \"+ str(z[1])+\" \"+ str(z[2])+\" \"+str(z[3]))\n",
    "    i+=1\n",
    "i"
   ]
  },
  {
   "cell_type": "code",
   "execution_count": null,
   "metadata": {},
   "outputs": [],
   "source": []
  }
 ],
 "metadata": {
  "kernelspec": {
   "display_name": "Python 3",
   "language": "python",
   "name": "python3"
  },
  "language_info": {
   "codemirror_mode": {
    "name": "ipython",
    "version": 3
   },
   "file_extension": ".py",
   "mimetype": "text/x-python",
   "name": "python",
   "nbconvert_exporter": "python",
   "pygments_lexer": "ipython3",
   "version": "3.7.3"
  }
 },
 "nbformat": 4,
 "nbformat_minor": 2
}
